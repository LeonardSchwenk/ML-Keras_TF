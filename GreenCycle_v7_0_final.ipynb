{
 "cells": [
  {
   "cell_type": "code",
   "execution_count": 1,
   "metadata": {},
   "outputs": [
    {
     "name": "stderr",
     "output_type": "stream",
     "text": [
      "Using TensorFlow backend.\n"
     ]
    }
   ],
   "source": [
    "#imports\n",
    "import sys\n",
    "import os\n",
    "from keras.preprocessing.image import ImageDataGenerator\n",
    "from keras import optimizers\n",
    "from keras.models import Sequential\n",
    "from keras.layers import Dropout, Flatten, Dense, Activation\n",
    "from keras.layers.convolutional import Conv2D, MaxPooling2D\n",
    "from keras import callbacks\n",
    "from keras import optimizers"
   ]
  },
  {
   "cell_type": "code",
   "execution_count": 3,
   "metadata": {},
   "outputs": [],
   "source": [
    "train_data_path = './data/train'\n",
    "validation_data_path = './data/validation'\n",
    "\n",
    "\"\"\"\n",
    "Parameters\n",
    "\"\"\"\n",
    "img_width, img_height = 150, 150\n",
    "batch_size = 64\n",
    "samples_per_epoch = 5400\n",
    "validation_steps = 2100\n",
    "nb_filters1 = 32\n",
    "nb_filters2 = 64\n",
    "conv1_size = 3\n",
    "conv2_size = 2\n",
    "pool_size = 2\n",
    "classes_num = 8\n",
    "lr = 0.0004\n",
    "epochs = 50"
   ]
  },
  {
   "cell_type": "code",
   "execution_count": 4,
   "metadata": {},
   "outputs": [
    {
     "name": "stdout",
     "output_type": "stream",
     "text": [
      "Found 9311 images belonging to 8 classes.\n",
      "Found 9311 images belonging to 8 classes.\n"
     ]
    }
   ],
   "source": [
    "model = Sequential()\n",
    "model.add(Conv2D(nb_filters1, (conv1_size, conv1_size), padding =\"same\", input_shape=(img_width, img_height, 3)))\n",
    "model.add(Activation(\"relu\"))\n",
    "model.add(MaxPooling2D(pool_size=(pool_size, pool_size)))\n",
    "\n",
    "model.add(Conv2D(nb_filters2, (conv2_size, conv2_size), padding =\"same\"))\n",
    "model.add(Activation(\"relu\"))\n",
    "model.add(MaxPooling2D(pool_size=(pool_size, pool_size)))\n",
    "\n",
    "model.add(Flatten())\n",
    "model.add(Dense(1024)) # increased dense model from 256 to 512\n",
    "model.add(Activation(\"relu\"))\n",
    "model.add(Dropout(0.5))\n",
    "model.add(Dense(classes_num, activation='softmax'))\n",
    "\n",
    "model.compile(loss='categorical_crossentropy',\n",
    "              optimizer=optimizers.RMSprop(lr=lr),\n",
    "              metrics=['acc'])\n",
    "\n",
    "train_datagen = ImageDataGenerator(\n",
    "    rescale=1. / 255,\n",
    "    shear_range=0.2,\n",
    "    zoom_range=0.2,\n",
    "    horizontal_flip=True)\n",
    "\n",
    "test_datagen = ImageDataGenerator(rescale=1. / 255)\n",
    "\n",
    "train_generator = train_datagen.flow_from_directory(\n",
    "    train_data_path,\n",
    "    target_size=(img_height, img_width),\n",
    "    batch_size=batch_size,\n",
    "    class_mode='categorical')\n",
    "\n",
    "validation_generator = test_datagen.flow_from_directory(\n",
    "    validation_data_path,\n",
    "    target_size=(img_height, img_width),\n",
    "    batch_size=batch_size,\n",
    "    class_mode='categorical')"
   ]
  },
  {
   "cell_type": "code",
   "execution_count": 5,
   "metadata": {},
   "outputs": [
    {
     "name": "stdout",
     "output_type": "stream",
     "text": [
      "_________________________________________________________________\n",
      "Layer (type)                 Output Shape              Param #   \n",
      "=================================================================\n",
      "conv2d_1 (Conv2D)            (None, 150, 150, 32)      896       \n",
      "_________________________________________________________________\n",
      "activation_1 (Activation)    (None, 150, 150, 32)      0         \n",
      "_________________________________________________________________\n",
      "max_pooling2d_1 (MaxPooling2 (None, 75, 75, 32)        0         \n",
      "_________________________________________________________________\n",
      "conv2d_2 (Conv2D)            (None, 75, 75, 64)        8256      \n",
      "_________________________________________________________________\n",
      "activation_2 (Activation)    (None, 75, 75, 64)        0         \n",
      "_________________________________________________________________\n",
      "max_pooling2d_2 (MaxPooling2 (None, 37, 37, 64)        0         \n",
      "_________________________________________________________________\n",
      "flatten_1 (Flatten)          (None, 87616)             0         \n",
      "_________________________________________________________________\n",
      "dense_1 (Dense)              (None, 1024)              89719808  \n",
      "_________________________________________________________________\n",
      "activation_3 (Activation)    (None, 1024)              0         \n",
      "_________________________________________________________________\n",
      "dropout_1 (Dropout)          (None, 1024)              0         \n",
      "_________________________________________________________________\n",
      "dense_2 (Dense)              (None, 8)                 8200      \n",
      "=================================================================\n",
      "Total params: 89,737,160\n",
      "Trainable params: 89,737,160\n",
      "Non-trainable params: 0\n",
      "_________________________________________________________________\n"
     ]
    }
   ],
   "source": [
    "model.summary()\n"
   ]
  },
  {
   "cell_type": "code",
   "execution_count": 6,
   "metadata": {},
   "outputs": [
    {
     "name": "stdout",
     "output_type": "stream",
     "text": [
      "Epoch 1/50\n",
      "84/84 [==============================] - 532s 6s/step - loss: 2.7975 - acc: 0.3125 - val_loss: 1.5930 - val_acc: 0.4058\n",
      "Epoch 2/50\n",
      "84/84 [==============================] - 469s 6s/step - loss: 1.5904 - acc: 0.4302 - val_loss: 1.4386 - val_acc: 0.5005\n",
      "Epoch 3/50\n",
      "84/84 [==============================] - 456s 5s/step - loss: 1.5037 - acc: 0.4760 - val_loss: 1.3660 - val_acc: 0.5054\n",
      "Epoch 4/50\n",
      "84/84 [==============================] - 521s 6s/step - loss: 1.4432 - acc: 0.4918 - val_loss: 1.4269 - val_acc: 0.4731\n",
      "Epoch 5/50\n",
      "84/84 [==============================] - 574s 7s/step - loss: 1.4211 - acc: 0.4990 - val_loss: 1.2521 - val_acc: 0.5571\n",
      "Epoch 6/50\n",
      "84/84 [==============================] - 455s 5s/step - loss: 1.3639 - acc: 0.5229 - val_loss: 1.2370 - val_acc: 0.5776\n",
      "Epoch 7/50\n",
      "84/84 [==============================] - 343s 4s/step - loss: 1.3435 - acc: 0.5335 - val_loss: 1.2280 - val_acc: 0.5776\n",
      "Epoch 8/50\n",
      "84/84 [==============================] - 343s 4s/step - loss: 1.2918 - acc: 0.5473 - val_loss: 1.1500 - val_acc: 0.6147\n",
      "Epoch 9/50\n",
      "84/84 [==============================] - 349s 4s/step - loss: 1.2720 - acc: 0.5571 - val_loss: 1.1194 - val_acc: 0.6172\n",
      "Epoch 10/50\n",
      "84/84 [==============================] - 345s 4s/step - loss: 1.2537 - acc: 0.5638 - val_loss: 1.0925 - val_acc: 0.6289\n",
      "Epoch 11/50\n",
      "84/84 [==============================] - 345s 4s/step - loss: 1.2388 - acc: 0.5668 - val_loss: 1.1500 - val_acc: 0.5957\n",
      "Epoch 12/50\n",
      "84/84 [==============================] - 345s 4s/step - loss: 1.2084 - acc: 0.5756 - val_loss: 1.1488 - val_acc: 0.6011\n",
      "Epoch 13/50\n",
      "84/84 [==============================] - 344s 4s/step - loss: 1.1618 - acc: 0.5964 - val_loss: 1.0334 - val_acc: 0.6396\n",
      "Epoch 14/50\n",
      "84/84 [==============================] - 344s 4s/step - loss: 1.1765 - acc: 0.5938 - val_loss: 0.9798 - val_acc: 0.6655\n",
      "Epoch 15/50\n",
      "84/84 [==============================] - 346s 4s/step - loss: 1.1454 - acc: 0.6068 - val_loss: 1.0827 - val_acc: 0.6240\n",
      "Epoch 16/50\n",
      "84/84 [==============================] - 343s 4s/step - loss: 1.1474 - acc: 0.5918 - val_loss: 1.0038 - val_acc: 0.6753\n",
      "Epoch 17/50\n",
      "84/84 [==============================] - 346s 4s/step - loss: 1.1238 - acc: 0.6135 - val_loss: 0.9794 - val_acc: 0.6587\n",
      "Epoch 18/50\n",
      "84/84 [==============================] - 345s 4s/step - loss: 1.0792 - acc: 0.6272 - val_loss: 0.9215 - val_acc: 0.6919\n",
      "Epoch 19/50\n",
      "84/84 [==============================] - 345s 4s/step - loss: 1.0867 - acc: 0.6256 - val_loss: 1.0127 - val_acc: 0.6489\n",
      "Epoch 20/50\n",
      "84/84 [==============================] - 347s 4s/step - loss: 1.0584 - acc: 0.6366 - val_loss: 0.9170 - val_acc: 0.6909\n",
      "Epoch 21/50\n",
      "84/84 [==============================] - 344s 4s/step - loss: 1.0754 - acc: 0.6342 - val_loss: 0.9184 - val_acc: 0.6841\n",
      "Epoch 22/50\n",
      "84/84 [==============================] - 346s 4s/step - loss: 1.0277 - acc: 0.6497 - val_loss: 0.8692 - val_acc: 0.7153\n",
      "Epoch 23/50\n",
      "84/84 [==============================] - 345s 4s/step - loss: 1.0179 - acc: 0.6442 - val_loss: 0.8650 - val_acc: 0.7109\n",
      "Epoch 24/50\n",
      "84/84 [==============================] - 344s 4s/step - loss: 1.0100 - acc: 0.6541 - val_loss: 0.9177 - val_acc: 0.6870\n",
      "Epoch 25/50\n",
      "84/84 [==============================] - 341s 4s/step - loss: 0.9867 - acc: 0.6663 - val_loss: 0.8576 - val_acc: 0.7246\n",
      "Epoch 26/50\n",
      "84/84 [==============================] - 339s 4s/step - loss: 0.9850 - acc: 0.6668 - val_loss: 0.8563 - val_acc: 0.7256\n",
      "Epoch 27/50\n",
      "84/84 [==============================] - 341s 4s/step - loss: 0.9897 - acc: 0.6600 - val_loss: 0.8594 - val_acc: 0.7344\n",
      "Epoch 28/50\n",
      "84/84 [==============================] - 341s 4s/step - loss: 0.9695 - acc: 0.6698 - val_loss: 0.7931 - val_acc: 0.7437\n",
      "Epoch 29/50\n",
      "84/84 [==============================] - 342s 4s/step - loss: 0.9511 - acc: 0.6767 - val_loss: 0.7850 - val_acc: 0.7520\n",
      "Epoch 30/50\n",
      "84/84 [==============================] - 343s 4s/step - loss: 0.9183 - acc: 0.6874 - val_loss: 0.8556 - val_acc: 0.7158\n",
      "Epoch 31/50\n",
      "84/84 [==============================] - 341s 4s/step - loss: 0.9355 - acc: 0.6759 - val_loss: 0.7777 - val_acc: 0.7534\n",
      "Epoch 32/50\n",
      "84/84 [==============================] - 341s 4s/step - loss: 0.9130 - acc: 0.6799 - val_loss: 0.8459 - val_acc: 0.7295\n",
      "Epoch 33/50\n",
      "84/84 [==============================] - 338s 4s/step - loss: 0.9267 - acc: 0.6847 - val_loss: 0.7764 - val_acc: 0.7573\n",
      "Epoch 34/50\n",
      "84/84 [==============================] - 343s 4s/step - loss: 0.8660 - acc: 0.7091 - val_loss: 0.7714 - val_acc: 0.7383\n",
      "Epoch 35/50\n",
      "84/84 [==============================] - 340s 4s/step - loss: 0.8849 - acc: 0.7083 - val_loss: 0.7522 - val_acc: 0.7544\n",
      "Epoch 36/50\n",
      "84/84 [==============================] - 339s 4s/step - loss: 0.8627 - acc: 0.7058 - val_loss: 0.7267 - val_acc: 0.7642\n",
      "Epoch 37/50\n",
      "84/84 [==============================] - 341s 4s/step - loss: 0.8605 - acc: 0.7154 - val_loss: 0.8103 - val_acc: 0.7300\n",
      "Epoch 38/50\n",
      "84/84 [==============================] - 340s 4s/step - loss: 0.8441 - acc: 0.7159 - val_loss: 0.7197 - val_acc: 0.7812\n",
      "Epoch 39/50\n",
      "84/84 [==============================] - 339s 4s/step - loss: 0.8506 - acc: 0.7133 - val_loss: 0.7596 - val_acc: 0.7710\n",
      "Epoch 40/50\n",
      "84/84 [==============================] - 341s 4s/step - loss: 0.8286 - acc: 0.7111 - val_loss: 0.7166 - val_acc: 0.7612\n",
      "Epoch 41/50\n",
      "84/84 [==============================] - 345s 4s/step - loss: 0.8151 - acc: 0.7260 - val_loss: 0.6188 - val_acc: 0.8110\n",
      "Epoch 42/50\n",
      "84/84 [==============================] - 339s 4s/step - loss: 0.8164 - acc: 0.7231 - val_loss: 0.6502 - val_acc: 0.7988\n",
      "Epoch 43/50\n",
      "84/84 [==============================] - 341s 4s/step - loss: 0.7921 - acc: 0.7349 - val_loss: 0.7040 - val_acc: 0.7798\n",
      "Epoch 44/50\n",
      "84/84 [==============================] - 340s 4s/step - loss: 0.7996 - acc: 0.7314 - val_loss: 0.5725 - val_acc: 0.8267\n",
      "Epoch 45/50\n",
      "84/84 [==============================] - 340s 4s/step - loss: 0.8013 - acc: 0.7342 - val_loss: 0.5905 - val_acc: 0.8184\n",
      "Epoch 46/50\n",
      "84/84 [==============================] - 342s 4s/step - loss: 0.7855 - acc: 0.7321 - val_loss: 0.5926 - val_acc: 0.8223\n",
      "Epoch 47/50\n",
      "84/84 [==============================] - 340s 4s/step - loss: 0.7975 - acc: 0.7298 - val_loss: 0.6240 - val_acc: 0.8022\n",
      "Epoch 48/50\n",
      "84/84 [==============================] - 338s 4s/step - loss: 0.7415 - acc: 0.7566 - val_loss: 0.5566 - val_acc: 0.8345\n",
      "Epoch 49/50\n",
      "84/84 [==============================] - 341s 4s/step - loss: 0.7892 - acc: 0.7359 - val_loss: 0.7531 - val_acc: 0.7563\n",
      "Epoch 50/50\n",
      "84/84 [==============================] - 342s 4s/step - loss: 0.7595 - acc: 0.7507 - val_loss: 0.5154 - val_acc: 0.8379\n"
     ]
    }
   ],
   "source": [
    "hist = model.fit_generator(\n",
    "    train_generator,\n",
    "    steps_per_epoch=samples_per_epoch // batch_size,\n",
    "    epochs=epochs,\n",
    "    validation_data=validation_generator,\n",
    "    validation_steps=validation_steps// batch_size,\n",
    "    )\n",
    "\n",
    "target_dir = './models/'\n",
    "if not os.path.exists(target_dir):\n",
    "  os.mkdir(target_dir)\n",
    "model.save('./models/model_v7_0_final.h5')\n",
    "model.save_weights('./models/weights_v7_0_final.h5')"
   ]
  },
  {
   "cell_type": "code",
   "execution_count": 10,
   "metadata": {},
   "outputs": [
    {
     "data": {
      "image/png": "[encoded data removed]",
      "text/plain": [
       "<matplotlib.figure.Figure at 0x1819e31a58>"
      ]
     },
     "metadata": {},
     "output_type": "display_data"
    },
    {
     "data": {
      "image/png": "[encoded data removed]",
      "text/plain": [
       "<matplotlib.figure.Figure at 0x181a09f4a8>"
      ]
     },
     "metadata": {},
     "output_type": "display_data"
    }
   ],
   "source": [
    "acc = hist.history['acc']\n",
    "val_acc = hist.history['val_acc']\n",
    "loss = hist.history['loss']\n",
    "val_loss = hist.history['val_loss']\n",
    "epochs = range(1, len(acc) + 1)\n",
    "\n",
    "import matplotlib.pyplot as plt\n",
    "%matplotlib inline\n",
    "\n",
    "plt.plot(epochs, acc, 'bo', label='Training acc')\n",
    "plt.plot(epochs, val_acc, 'b', label='Validation acc')\n",
    "plt.title('Training and validation accuracy')\n",
    "plt.legend()\n",
    "\n",
    "plt.figure()\n",
    "plt.plot(epochs, loss, 'bo', label='Training loss')\n",
    "plt.plot(epochs, val_loss, 'b', label='Validation loss')\n",
    "plt.title('Training and validation loss')\n",
    "plt.legend()\n",
    "\n",
    "plt.show()"
   ]
  },
  {
   "cell_type": "code",
   "execution_count": null,
   "metadata": {},
   "outputs": [],
   "source": [
    "#predict_multiclass\n",
    "import os\n",
    "import numpy as np\n",
    "from keras.preprocessing.image import ImageDataGenerator, load_img, img_to_array\n",
    "from keras.models import Sequential, load_model\n",
    "\n",
    "\n",
    "img_width, img_height = 150, 150\n",
    "model_path = './models/modelv4.0_8.categories.h5'\n",
    "model_weights_path = './models/weights_v4.0_8.categories.0.h5'\n",
    "model = load_model(model_path)\n",
    "model.load_weights(model_weights_path)\n",
    "\n",
    "def predict(file):\n",
    "  x = load_img(file, target_size=(img_width,img_height))\n",
    "  x = img_to_array(x)\n",
    "  x = np.expand_dims(x, axis=0)\n",
    "  array = model.predict(x)\n",
    "  result = array[0]\n",
    "  answer = np.argmax(result)\n",
    "  if answer == 0:\n",
    "    print(\"Label: banana\")\n",
    "  elif answer == 1:\n",
    "    print(\"Labels: battery\")\n",
    "  elif answer == 2:\n",
    "    print(\"Label: computer\")\n",
    "  elif answer == 3:\n",
    "    print(\"Label: glass_bottel\")\n",
    "  elif answer == 4:\n",
    "    print(\"Label: light_blub\")\n",
    "  elif answer == 5:\n",
    "    print(\"Label: paper\")\n",
    "  elif answer == 6:\n",
    "    print(\"Label: phone\")\n",
    "  elif answer == 7:\n",
    "    print(\"Label: plastic\")\n",
    "  \n",
    "\n",
    "  return answer"
   ]
  },
  {
   "cell_type": "code",
   "execution_count": null,
   "metadata": {},
   "outputs": [],
   "source": [
    "# classify a picture\n",
    "for i, ret in enumerate(os.walk('./test-data/whatishere')):\n",
    "  for i, filename in enumerate(ret[2]):\n",
    "    result = predict(ret[0] + '/' + filename)"
   ]
  }
 ],
 "metadata": {
  "kernelspec": {
   "display_name": "Python 3",
   "language": "python",
   "name": "python3"
  },
  "language_info": {
   "codemirror_mode": {
    "name": "ipython",
    "version": 3
   },
   "file_extension": ".py",
   "mimetype": "text/x-python",
   "name": "python",
   "nbconvert_exporter": "python",
   "pygments_lexer": "ipython3",
   "version": "3.6.4"
  }
 },
 "nbformat": 4,
 "nbformat_minor": 2
}
