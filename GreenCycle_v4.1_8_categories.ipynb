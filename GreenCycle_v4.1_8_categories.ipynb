{
 "cells": [
  {
   "cell_type": "code",
   "execution_count": 1,
   "metadata": {},
   "outputs": [
    {
     "name": "stderr",
     "output_type": "stream",
     "text": [
      "Using TensorFlow backend.\n"
     ]
    }
   ],
   "source": [
    "#imports\n",
    "import sys\n",
    "import os\n",
    "from keras.preprocessing.image import ImageDataGenerator\n",
    "from keras import optimizers\n",
    "from keras.models import Sequential\n",
    "from keras.layers import Dropout, Flatten, Dense, Activation\n",
    "from keras.layers.convolutional import Conv2D, MaxPooling2D\n",
    "from keras import callbacks\n",
    "from keras import optimizers"
   ]
  },
  {
   "cell_type": "code",
   "execution_count": 2,
   "metadata": {},
   "outputs": [],
   "source": [
    "DEV = False\n",
    "argvs = sys.argv\n",
    "argc = len(argvs)\n",
    "\n",
    "if argc > 1 and (argvs[1] == \"--development\" or argvs[1] == \"-d\"):\n",
    "  DEV = True\n",
    "\n",
    "if DEV:\n",
    "  epochs = 12\n",
    "else:\n",
    "    # default epoches which get trained when you dont start the file via terminal\n",
    "  epochs = 100\n",
    "\n",
    "train_data_path = './data/train'\n",
    "validation_data_path = './data/validation'\n",
    "\n",
    "\"\"\"\n",
    "Parameters\n",
    "\"\"\"\n",
    "img_width, img_height = 150, 150\n",
    "batch_size = 64\n",
    "samples_per_epoch = 5400\n",
    "validation_steps = 2100\n",
    "nb_filters1 = 32\n",
    "nb_filters2 = 64\n",
    "conv1_size = 3\n",
    "conv2_size = 2\n",
    "pool_size = 2\n",
    "classes_num = 8\n",
    "lr = 0.0004 # learning rate from 0.5 till -0.5 take care with the learning rate check keras optimizer documentary"
   ]
  },
  {
   "cell_type": "code",
   "execution_count": 4,
   "metadata": {},
   "outputs": [
    {
     "name": "stdout",
     "output_type": "stream",
     "text": [
      "Found 9311 images belonging to 8 classes.\n",
      "Found 9311 images belonging to 8 classes.\n"
     ]
    }
   ],
   "source": [
    "model = Sequential()\n",
    "\n",
    "#added layers, per .add a layer gets added\n",
    "\n",
    "model.add(Conv2D(nb_filters1, (conv1_size, conv1_size), padding =\"same\", input_shape=(img_width, img_height, 3)))\n",
    "model.add(Activation(\"relu\"))\n",
    "model.add(MaxPooling2D(pool_size=(pool_size, pool_size)))\n",
    "\n",
    "model.add(Conv2D(nb_filters2, (conv2_size, conv2_size), padding =\"same\"))\n",
    "model.add(Activation(\"relu\"))\n",
    "model.add(MaxPooling2D(pool_size=(pool_size, pool_size), data_format='channels_first'))\n",
    "\n",
    "model.add(Flatten())\n",
    "model.add(Dense(1024)) # dense model connections increased dense model from 256 to 1024\n",
    "model.add(Activation(\"relu\"))\n",
    "model.add(Dropout(0.5))\n",
    "model.add(Dense(classes_num, activation='softmax'))\n",
    "\n",
    "# compile your model with a specific loss function there a lot of loss function choose the best one for your model\n",
    "# we want loss to decrease in our training\n",
    "model.compile(loss='categorical_crossentropy',\n",
    "              optimizer=optimizers.RMSprop(lr=lr),\n",
    "              metrics=['accuracy'],)\n",
    "\n",
    "train_datagen = ImageDataGenerator(\n",
    "    rescale=1. / 255,\n",
    "    shear_range=0.2,\n",
    "    zoom_range=0.2,\n",
    "    horizontal_flip=True)\n",
    "\n",
    "test_datagen = ImageDataGenerator(rescale=1. / 255)\n",
    "\n",
    "train_generator = train_datagen.flow_from_directory(\n",
    "    train_data_path,\n",
    "    target_size=(img_height, img_width),\n",
    "    batch_size=batch_size,\n",
    "    class_mode='categorical')\n",
    "\n",
    "validation_generator = test_datagen.flow_from_directory(\n",
    "    validation_data_path,\n",
    "    target_size=(img_height, img_width),\n",
    "    batch_size=batch_size,\n",
    "    class_mode='categorical')"
   ]
  },
  {
   "cell_type": "code",
   "execution_count": null,
   "metadata": {},
   "outputs": [],
   "source": [
    "#start the training with .fit_generator\n",
    "model.fit_generator(\n",
    "    train_generator,\n",
    "    steps_per_epoch=samples_per_epoch // batch_size,\n",
    "    epochs=epochs,\n",
    "    validation_data=validation_generator,\n",
    "    validation_steps=validation_steps // batch_size)\n",
    "\n",
    "target_dir = './models/'\n",
    "if not os.path.exists(target_dir):\n",
    "  os.mkdir(target_dir)\n",
    "\n",
    "#saving the trained model and weights of the models \n",
    "model.save('./models/modelv4.1_8.categories.h5')\n",
    "model.save_weights('./models/weights_v4.1_8.categories.0.h5')"
   ]
  },
  {
   "cell_type": "code",
   "execution_count": null,
   "metadata": {},
   "outputs": [],
   "source": [
    "#predict_multiclass\n",
    "import os\n",
    "import numpy as np\n",
    "from keras.preprocessing.image import ImageDataGenerator, load_img, img_to_array\n",
    "from keras.models import Sequential, load_model\n",
    "\n",
    "\n",
    "img_width, img_height = 150, 150\n",
    "model_path = './models/modelv4.0_8.categories.h5'\n",
    "model_weights_path = './models/weights_v4.0_8.categories.0.h5'\n",
    "model = load_model(model_path)\n",
    "model.load_weights(model_weights_path)\n",
    "\n",
    "# label the prediction with the names of the specific categories\n",
    "def predict(file):\n",
    "  x = load_img(file, target_size=(img_width,img_height))\n",
    "  x = img_to_array(x)\n",
    "  x = np.expand_dims(x, axis=0)\n",
    "  array = model.predict(x)\n",
    "  result = array[0]\n",
    "  answer = np.argmax(result)\n",
    "  if answer == 0:\n",
    "    print(\"Label: banana\")\n",
    "  elif answer == 1:\n",
    "    print(\"Labels: battery\")\n",
    "  elif answer == 2:\n",
    "    print(\"Label: computer\")\n",
    "  elif answer == 3:\n",
    "    print(\"Label: glass_bottel\")\n",
    "  elif answer == 4:\n",
    "    print(\"Label: light_blub\")\n",
    "  elif answer == 5:\n",
    "    print(\"Label: paper\")\n",
    "  elif answer == 6:\n",
    "    print(\"Label: phone\")\n",
    "  elif answer == 7:\n",
    "    print(\"Label: plastic\")\n",
    "  \n",
    "\n",
    "  return answer"
   ]
  },
  {
   "cell_type": "code",
   "execution_count": null,
   "metadata": {},
   "outputs": [],
   "source": [
    "# classify a picture with \"result\" what is a label array which includes the specific category label\n",
    "for i, ret in enumerate(os.walk('./test-data/whatishere')):\n",
    "  for i, filename in enumerate(ret[2]):\n",
    "    result = predict(ret[0] + '/' + filename)"
   ]
  }
 ],
 "metadata": {
  "kernelspec": {
   "display_name": "Python 3",
   "language": "python",
   "name": "python3"
  },
  "language_info": {
   "codemirror_mode": {
    "name": "ipython",
    "version": 3
   },
   "file_extension": ".py",
   "mimetype": "text/x-python",
   "name": "python",
   "nbconvert_exporter": "python",
   "pygments_lexer": "ipython3",
   "version": "3.6.4"
  }
 },
 "nbformat": 4,
 "nbformat_minor": 2
}
