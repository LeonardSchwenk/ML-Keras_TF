{
 "cells": [
  {
   "cell_type": "code",
   "execution_count": 1,
   "metadata": {},
   "outputs": [
    {
     "name": "stderr",
     "output_type": "stream",
     "text": [
      "Using TensorFlow backend.\n"
     ]
    }
   ],
   "source": [
    "#predict_multiclass\n",
    "import os\n",
    "import numpy as np\n",
    "from keras.preprocessing.image import ImageDataGenerator, load_img, img_to_array\n",
    "from keras.models import load_model\n",
    "\n",
    "\n",
    "img_width, img_height = 150, 150\n",
    "model_path = './models/modelv4.3_8.categories.h5'\n",
    "model = load_model(model_path)\n",
    "\n",
    "# label the prediction with the names of the specific categories\n",
    "def predict(file):\n",
    "  x = load_img(file, target_size=(img_width,img_height))\n",
    "  x = img_to_array(x)\n",
    "  x = np.expand_dims(x, axis=0)\n",
    "  array = model.predict(x)\n",
    "  result = array[0]\n",
    "  answer = np.argmax(result)\n",
    "  if answer == 0:\n",
    "    print(\"Label: banana\")\n",
    "  elif answer == 1:\n",
    "    print(\"Labels: battery\")\n",
    "  elif answer == 2:\n",
    "    print(\"Label: computer\")\n",
    "  elif answer == 3:\n",
    "    print(\"Label: glass_bottel\")\n",
    "  elif answer == 4:\n",
    "    print(\"Label: light_blub\")\n",
    "  elif answer == 5:\n",
    "    print(\"Label: paper\")\n",
    "  elif answer == 6:\n",
    "    print(\"Label: phone\")\n",
    "  elif answer == 7:\n",
    "    print(\"Label: plastic\")\n",
    "  \n",
    "\n",
    "  return answer"
   ]
  },
  {
   "cell_type": "code",
   "execution_count": 2,
   "metadata": {},
   "outputs": [
    {
     "name": "stdout",
     "output_type": "stream",
     "text": [
      "Labels: battery\n"
     ]
    }
   ],
   "source": [
    "# classify a picture with \"result\" what is a label array which includes the specific category label\n",
    "for i, ret in enumerate(os.walk('./test-data/whatishere')):\n",
    "  for i, filename in enumerate(ret[2]):\n",
    "    result = predict(ret[0] + '/' + filename)"
   ]
  },
  {
   "cell_type": "code",
   "execution_count": null,
   "metadata": {},
   "outputs": [],
   "source": []
  }
 ],
 "metadata": {
  "kernelspec": {
   "display_name": "Python 3",
   "language": "python",
   "name": "python3"
  },
  "language_info": {
   "codemirror_mode": {
    "name": "ipython",
    "version": 3
   },
   "file_extension": ".py",
   "mimetype": "text/x-python",
   "name": "python",
   "nbconvert_exporter": "python",
   "pygments_lexer": "ipython3",
   "version": "3.6.4"
  }
 },
 "nbformat": 4,
 "nbformat_minor": 2
}
